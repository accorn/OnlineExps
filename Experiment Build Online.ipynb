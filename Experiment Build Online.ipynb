{
 "cells": [
  {
   "cell_type": "markdown",
   "metadata": {},
   "source": [
    "# A Brief Guide to Building Online Experiments"
   ]
  },
  {
   "cell_type": "markdown",
   "metadata": {},
   "source": [
    "## Using PsychoPy, jsPsych, or Both"
   ]
  },
  {
   "cell_type": "markdown",
   "metadata": {},
   "source": [
    "### Background"
   ]
  },
  {
   "cell_type": "markdown",
   "metadata": {},
   "source": [
    "To build experiments online, we need to utilize some different software. Depending on whether you want to create experiments to run in the lab or online, you will need to use or combine different software and/or libraries. \n",
    "\n",
    "<img src=\"jupyterImages/psychopyLogo.png\" width=\"400\">\n",
    "\n",
    "PsychoPy (Peirce et al. 2019) is software package that allows people to program visual experiments in the python programming langauge. Recently, in PsychoPy.v3, they have added online experiment functionality that will automatically convert your python code to Javascript. However, as of this writing, you are unable to run the online experiment anywhere but their own site (Pavlovia.org) which charges per participant. You can, however, use their python converter to generate some starter javascript to build from. \n",
    "\n",
    "Anyone familiar with matlab programming language or programming experiments using the PsychToolbox (Kleiner, Brainard, Pelli, 2007), will quickly notice some similarities in the syntax and structure of the experiment design when manually coding experiments using PsychoPy. Psychopy has an additional 'Builder' function that was designed to help those who are not familiar with python or programming in general.\n",
    "\n",
    "<img src=\"jupyterImages/psychopyscreen.png\" width=\"400\">\n",
    "\n",
    "This Builder view allows people to create what is essentially a flow diagram for their experiment. Depending on the complexity of the experiment, additional code may or may not be required. For each 'Routine' that is created, stimuli and responses can be added. Trials can end on response or be shown for a set length. If you are wanting an in-lab experiment, and you know how to code, I would recommend manually coding the experiment. Using the builder function is nice, however it requires extra tampering to get more complex experiments to work properly. The link below will lead to a seperate notebook that will walk through the creation of an experiment using manual python programming. \n",
    "\n",
    "[Manual Coding in Python](./ManuallyCodingaPythonExperiment.ipynb/)\n",
    "\n",
    "<img src=\"jupyterImages/jspsych-logo.png\" width=\"400\">\n",
    "\n",
    "If you just want an online experiment only, and you are somewhat familiar with programming, you can use the jsPsych javascript library (de Leeuw, 2015) to help in the creation of an experiment that can be viewed in a webpage. The jsPsych package is a collection of useful functions and scripts that streamlines some of the more tedious programming associated with drawing stimuli and taking responses in a javascript and html environment. The language and structure of javascript programming is similar to that of matlab and R, but the way that javascript code is initialized and ran differs greatly. \n",
    "\n",
    "If you are familiar with programming in R or matlab, you may recall that any code you write is ran sequentially. It starts with line 1, and progressing through your script until all lines are completed. This typically means that you can define variables at the top, and you can also modify variables within loops or logic statements further down the script. With javascript, the entirety of the script is loaded at once. This means that any changes that you want made to the code based on participant response or other measures will not be accounted for and will most likely through an error. To get around this, any change or response request must be done through functions that are called on each trial. In the notebook files linked below, there is a walk through that will guide you in creating a javascript experiment from scratch using jsPsych\n",
    "\n",
    "[Manual Coding in Javascript](./ManuallyCodingaJavascriptExperiment.ipynb/)"
   ]
  },
  {
   "cell_type": "markdown",
   "metadata": {},
   "source": [
    "### Required software and questions"
   ]
  },
  {
   "cell_type": "markdown",
   "metadata": {},
   "source": [
    "To build online experiments, we will need some software and their associated libraries and packages.\n",
    "\n",
    "Stuff Needed:\n",
    "- PsychoPy v3 (https://www.psychopy.org/)\n",
    "- Copy of jsPsych (https://www.jspsych.org/)\n",
    "- A text editor for html and javascript (Atom Recommended) "
   ]
  },
  {
   "cell_type": "markdown",
   "metadata": {},
   "source": [
    "### How to run things online"
   ]
  },
  {
   "cell_type": "markdown",
   "metadata": {},
   "source": [
    "There are a few options available to you to run the experiment online once the experiments are programmed. Some are free and some are not. Below are a few of the services that you could use to serve experiment to SONA participants or to particpants in the greater population. \n",
    " "
   ]
  },
  {
   "cell_type": "markdown",
   "metadata": {},
   "source": [
    "#### JATOS"
   ]
  },
  {
   "cell_type": "markdown",
   "metadata": {},
   "source": [
    "The first option, that I would recommend is to create and run a JATOS server (https://www.jatos.org/). Free to run, but you will need a server to host it. One option is to have a lab computer always be on to serve the experiments to particpants. To do this, you will need to get in contact with IT to get a port open for inbound communication. Otherwise, you will need to have a home computer that is able to communicate online that will be able to handle multiple connections. Another option, if you do not have access to a computer that can act as a server, is to create a EC2 instance in the Amazon Cloud. This will cost money, but it does work. \n",
    "\n",
    "JATOS allows javascript based experiments to be ran both in lab and online through multiple outlets (SONA via participant links, through Amazon Mechanical Turk, email via links, etc.). JATOS does require integration into the experiment code to work properly, but the additional code is relatively minor. Data collection and aggregation is taken care of by the software without the required need of a SQL database, though one can be added if wanted. "
   ]
  },
  {
   "cell_type": "markdown",
   "metadata": {},
   "source": [
    "#### PsiTurk"
   ]
  },
  {
   "cell_type": "markdown",
   "metadata": {},
   "source": [
    "If you want to solely run experiments on Amazon's Mechanical Turk you can set up PsiTurk (https://psiturk.org/) on a Mac or Linux computer. You will also need to install a SQL server and do some modifications to a few configuration files in order to get the software to run properly. Keep in mind that participants on MTurk are paid.  \n",
    "\n",
    "This software is useful for MTurk only experiments, and the PsiTurk servers take care of all of the networking stuff. However, a port is still required if the experiments are ran from the campus network. Some cons to this software is that everything is completed through a terminal window, and that you have no control of the experiments through the MTurk dashboard. Bonuses are also difficult to pay automatically. "
   ]
  },
  {
   "cell_type": "markdown",
   "metadata": {},
   "source": [
    "#### Pavlovia"
   ]
  },
  {
   "cell_type": "markdown",
   "metadata": {},
   "source": [
    "Pavlovia (https://pavlovia.org/) is a hosting service and repository of experiments made using PsychoPy and its javascript exporting function. It is a paid service that cost $0.20 per particpant. I have not used this service myself, but based on the creators' recent post in the forums, javascript studies made using the PsychoPy builder can only be ran using Pavlovia. You can export the javascript and modify it to work with jsPsych."
   ]
  },
  {
   "cell_type": "markdown",
   "metadata": {},
   "source": [
    "#### Self-Hosting"
   ]
  },
  {
   "cell_type": "markdown",
   "metadata": {},
   "source": [
    "This is a possiblility as well, but it is something I have not done myself."
   ]
  },
  {
   "cell_type": "markdown",
   "metadata": {},
   "source": [
    "### Additional way to program javascript experiments"
   ]
  },
  {
   "cell_type": "markdown",
   "metadata": {},
   "source": [
    "Lab.js (https://lab.js.org/) is an analog to PsychoPy. It is essentially a builder that programs experiments in javascript for you. Similar to PsychoPy, you can create a flow diagram with how you want your experiments to run. You can also run any changes you make immediately. \n",
    "\n",
    "The service allows you to export the studies for use in a variety of the online data collection methods. It has native support to export to JATOS as well. Once I have a bit more time working with this, I will update this section. It may be possible that we could create experiments in PsychoPy, and manually copy over the parameters to lab.js. This may be the most effective solution for people who are not super familiar with programming. "
   ]
  },
  {
   "cell_type": "code",
   "execution_count": null,
   "metadata": {},
   "outputs": [],
   "source": []
  }
 ],
 "metadata": {
  "kernelspec": {
   "display_name": "Python 3",
   "language": "python",
   "name": "python3"
  },
  "language_info": {
   "codemirror_mode": {
    "name": "ipython",
    "version": 3
   },
   "file_extension": ".py",
   "mimetype": "text/x-python",
   "name": "python",
   "nbconvert_exporter": "python",
   "pygments_lexer": "ipython3",
   "version": "3.7.6"
  }
 },
 "nbformat": 4,
 "nbformat_minor": 4
}
